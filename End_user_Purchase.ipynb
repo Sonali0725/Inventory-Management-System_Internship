{
  "nbformat": 4,
  "nbformat_minor": 0,
  "metadata": {
    "colab": {
      "name": "End_user_Purchase.ipynb",
      "provenance": [],
      "collapsed_sections": []
    },
    "kernelspec": {
      "name": "python3",
      "display_name": "Python 3"
    },
    "language_info": {
      "name": "python"
    }
  },
  "cells": [
    {
      "cell_type": "code",
      "metadata": {
        "id": "R9bpaGn0ODDr"
      },
      "source": [
        "import json\n",
        "\n",
        "fd = open(\"record.json\",'r')\n",
        "r = fd.read()\n",
        "fd.close()\n",
        "\n",
        "records = json.loads(r)"
      ],
      "execution_count": 15,
      "outputs": []
    },
    {
      "cell_type": "code",
      "metadata": {
        "colab": {
          "base_uri": "https://localhost:8080/"
        },
        "id": "Lb34mJCeQBAM",
        "outputId": "5aaf2768-d194-4ac6-aca4-9eb6b9a5e0b9"
      },
      "source": [
        "#displaying all records\n",
        "\n",
        "records"
      ],
      "execution_count": 16,
      "outputs": [
        {
          "output_type": "execute_result",
          "data": {
            "text/plain": [
              "{'101': {'color': 'Black',\n",
              "  'company_nm': 'Apsara',\n",
              "  'name': 'Pencil',\n",
              "  'price': 10,\n",
              "  'quantity': 100},\n",
              " '102': {'color': 'Blue',\n",
              "  'company_nm': 'Renaulds',\n",
              "  'name': 'Pen',\n",
              "  'price': 20,\n",
              "  'quantity': 500},\n",
              " '103': {'color': 'White',\n",
              "  'company_nm': 'Apsara',\n",
              "  'name': 'Eraser',\n",
              "  'price': 5,\n",
              "  'quantity': 190},\n",
              " '104': {'color': 'Black',\n",
              "  'company_nm': 'Natraj',\n",
              "  'name': 'Sharpner',\n",
              "  'price': 10,\n",
              "  'quantity': 20},\n",
              " '105': {'color': 'Pink',\n",
              "  'company_nm': 'Apsara',\n",
              "  'name': 'Sheet',\n",
              "  'price': 20,\n",
              "  'quantity': 1000},\n",
              " '106': {'color': 'Grey',\n",
              "  'company_nm': 'Cello',\n",
              "  'name': 'Writing Pad',\n",
              "  'price': 100,\n",
              "  'quantity': 200},\n",
              " '107': {'color': 'Black and White',\n",
              "  'company_nm': 'NAVNEET',\n",
              "  'name': 'Notebook',\n",
              "  'price': 80,\n",
              "  'quantity': 1000},\n",
              " '108': {'color': 'White',\n",
              "  'company_nm': 'Sundaram',\n",
              "  'name': 'Drawing Book',\n",
              "  'price': 120,\n",
              "  'quantity': 300},\n",
              " '109': {'color': 'White',\n",
              "  'company_nm': 'Natraj',\n",
              "  'name': 'Ruler',\n",
              "  'price': 10,\n",
              "  'quantity': 100},\n",
              " '110': {'color': 'Blue',\n",
              "  'company_nm': 'Apsara',\n",
              "  'name': 'File',\n",
              "  'price': 80,\n",
              "  'quantity': 50},\n",
              " '111': {'color': 'Black',\n",
              "  'company_nm': 'Fevicol',\n",
              "  'name': 'Gum',\n",
              "  'price': 15,\n",
              "  'quantity': 180},\n",
              " '112': {'color': 'Blue',\n",
              "  'company_nm': 'Camlin',\n",
              "  'name': 'Ink bottel',\n",
              "  'price': 30,\n",
              "  'quantity': 90},\n",
              " '113': {'color': 'All',\n",
              "  'company_nm': 'Fun',\n",
              "  'name': 'Colour Pencils',\n",
              "  'price': 99,\n",
              "  'quantity': 100},\n",
              " '114': {'color': 'All available',\n",
              "  'company_nm': 'Colorama',\n",
              "  'name': 'Crayons',\n",
              "  'price': 150,\n",
              "  'quantity': 100},\n",
              " '115': {'color': 'Black',\n",
              "  'company_nm': 'Apsara',\n",
              "  'name': 'Blackboad',\n",
              "  'price': 199,\n",
              "  'quantity': 10},\n",
              " '116': {'color': 'Black',\n",
              "  'company_nm': 'Cello',\n",
              "  'name': 'Marker',\n",
              "  'price': 10,\n",
              "  'quantity': 160},\n",
              " '117': {'color': 'White',\n",
              "  'company_nm': 'Apsara',\n",
              "  'name': 'Chalk',\n",
              "  'price': 50,\n",
              "  'quantity': 100},\n",
              " '118': {'color': 'White',\n",
              "  'company_nm': 'Camilin',\n",
              "  'name': 'Sketch book',\n",
              "  'price': 199,\n",
              "  'quantity': 100},\n",
              " '119': {'color': 'Black',\n",
              "  'company_nm': 'Apsara',\n",
              "  'name': 'Chart paper',\n",
              "  'price': 10,\n",
              "  'quantity': 100},\n",
              " '120': {'color': 'Blue',\n",
              "  'company_nm': 'Renaulds',\n",
              "  'name': 'Refil',\n",
              "  'price': 10,\n",
              "  'quantity': 100},\n",
              " '121': {'color': 'Violet',\n",
              "  'company_nm': 'ABC',\n",
              "  'name': 'Cards',\n",
              "  'price': 10,\n",
              "  'quantity': 100},\n",
              " '122': {'color': 'Black',\n",
              "  'company_nm': 'Apsara',\n",
              "  'name': 'Ink bottel',\n",
              "  'price': 35,\n",
              "  'quantity': 10},\n",
              " '123': {'color': 'Black',\n",
              "  'company_nm': 'Fun',\n",
              "  'name': 'Colour Pencils',\n",
              "  'price': 199,\n",
              "  'quantity': 15},\n",
              " '124': {'color': 'Multi-color',\n",
              "  'company_nm': 'Camilin',\n",
              "  'name': 'Crayons',\n",
              "  'price': 10,\n",
              "  'quantity': 3},\n",
              " '125': {'color': 'Black',\n",
              "  'company_nm': 'XYZ',\n",
              "  'name': 'Blackboad',\n",
              "  'price': 10,\n",
              "  'quantity': 5},\n",
              " '126': {'color': 'Black',\n",
              "  'company_nm': 'Cello',\n",
              "  'name': 'Marker',\n",
              "  'price': 10,\n",
              "  'quantity': 100},\n",
              " '127': {'color': 'Grey',\n",
              "  'company_nm': 'ABC',\n",
              "  'name': 'Pins',\n",
              "  'price': 10,\n",
              "  'quantity': 10},\n",
              " '128': {'color': 'Multi-color',\n",
              "  'company_nm': 'Colorama',\n",
              "  'name': 'Stedlar',\n",
              "  'price': 499,\n",
              "  'quantity': 50},\n",
              " '129': {'color': 'Red',\n",
              "  'company_nm': 'XYZ',\n",
              "  'name': 'Sticker',\n",
              "  'price': 5,\n",
              "  'quantity': 100},\n",
              " '130': {'color': 'Multi-color',\n",
              "  'company_nm': 'Fun',\n",
              "  'name': 'Handmade Paper',\n",
              "  'price': 49,\n",
              "  'quantity': 70},\n",
              " '131': {'company_nm': 'ABC',\n",
              "  'name': 'Rubber Bands',\n",
              "  'price': 60,\n",
              "  'quantity': 8},\n",
              " '132': {'company_nm': 'Navneet',\n",
              "  'name': 'Sticky notes',\n",
              "  'price': 89,\n",
              "  'quantity': 40},\n",
              " '133': {'company_nm': 'Kangaro',\n",
              "  'name': 'Staplers',\n",
              "  'price': 55,\n",
              "  'quantity': 25}}"
            ]
          },
          "metadata": {},
          "execution_count": 16
        }
      ]
    },
    {
      "cell_type": "code",
      "metadata": {
        "colab": {
          "base_uri": "https://localhost:8080/"
        },
        "id": "m40yxNeGQF4j",
        "outputId": "13f367a0-85dd-4a8f-b173-47a5d57e62e5"
      },
      "source": [
        "#To purchase a product, we need to enter Product Id and quantity for that product and total price will be displayed\n",
        "\n",
        "ui_prod  = str(input(\"Enter the product_Id: \"))\n",
        "\n",
        "print(\"\\nProduct details:--\\n\")\n",
        "print(records[ui_prod])\n",
        "\n",
        "ui_quant = int(input(\"\\nEnter the quantity: \"))\n",
        "\n",
        "\n",
        "print(\"Product: \", records[ui_prod]['name'])\n",
        "print(\"Price: \", records[ui_prod]['price'])\n",
        "print(\"Billing Amount: \", records[ui_prod]['price'] * ui_quant)\n",
        "\n",
        "records[ui_prod]['quantity'] = records[ui_prod]['quantity'] - ui_quant"
      ],
      "execution_count": 17,
      "outputs": [
        {
          "output_type": "stream",
          "name": "stdout",
          "text": [
            "Enter the product_Id: 109\n",
            "\n",
            "Product details:--\n",
            "\n",
            "{'name': 'Ruler', 'price': 10, 'quantity': 100, 'company_nm': 'Natraj', 'color': 'White'}\n",
            "\n",
            "Enter the quantity: 2\n",
            "Product:  Ruler\n",
            "Price:  10\n",
            "Billing Amount:  20\n"
          ]
        }
      ]
    },
    {
      "cell_type": "code",
      "metadata": {
        "colab": {
          "base_uri": "https://localhost:8080/"
        },
        "id": "AAZEN9PuSS6J",
        "outputId": "1eaaaf83-2cea-4afd-ecb3-f659e8d9de57"
      },
      "source": [
        "#showing the updated record after purchase\n",
        "print(\"Hence, updated record after purchase:-\\n\")\n",
        "\n",
        "records"
      ],
      "execution_count": 18,
      "outputs": [
        {
          "output_type": "stream",
          "name": "stdout",
          "text": [
            "Hence, updated record after purchase:-\n",
            "\n"
          ]
        },
        {
          "output_type": "execute_result",
          "data": {
            "text/plain": [
              "{'101': {'color': 'Black',\n",
              "  'company_nm': 'Apsara',\n",
              "  'name': 'Pencil',\n",
              "  'price': 10,\n",
              "  'quantity': 100},\n",
              " '102': {'color': 'Blue',\n",
              "  'company_nm': 'Renaulds',\n",
              "  'name': 'Pen',\n",
              "  'price': 20,\n",
              "  'quantity': 500},\n",
              " '103': {'color': 'White',\n",
              "  'company_nm': 'Apsara',\n",
              "  'name': 'Eraser',\n",
              "  'price': 5,\n",
              "  'quantity': 190},\n",
              " '104': {'color': 'Black',\n",
              "  'company_nm': 'Natraj',\n",
              "  'name': 'Sharpner',\n",
              "  'price': 10,\n",
              "  'quantity': 20},\n",
              " '105': {'color': 'Pink',\n",
              "  'company_nm': 'Apsara',\n",
              "  'name': 'Sheet',\n",
              "  'price': 20,\n",
              "  'quantity': 1000},\n",
              " '106': {'color': 'Grey',\n",
              "  'company_nm': 'Cello',\n",
              "  'name': 'Writing Pad',\n",
              "  'price': 100,\n",
              "  'quantity': 200},\n",
              " '107': {'color': 'Black and White',\n",
              "  'company_nm': 'NAVNEET',\n",
              "  'name': 'Notebook',\n",
              "  'price': 80,\n",
              "  'quantity': 1000},\n",
              " '108': {'color': 'White',\n",
              "  'company_nm': 'Sundaram',\n",
              "  'name': 'Drawing Book',\n",
              "  'price': 120,\n",
              "  'quantity': 300},\n",
              " '109': {'color': 'White',\n",
              "  'company_nm': 'Natraj',\n",
              "  'name': 'Ruler',\n",
              "  'price': 10,\n",
              "  'quantity': 98},\n",
              " '110': {'color': 'Blue',\n",
              "  'company_nm': 'Apsara',\n",
              "  'name': 'File',\n",
              "  'price': 80,\n",
              "  'quantity': 50},\n",
              " '111': {'color': 'Black',\n",
              "  'company_nm': 'Fevicol',\n",
              "  'name': 'Gum',\n",
              "  'price': 15,\n",
              "  'quantity': 180},\n",
              " '112': {'color': 'Blue',\n",
              "  'company_nm': 'Camlin',\n",
              "  'name': 'Ink bottel',\n",
              "  'price': 30,\n",
              "  'quantity': 90},\n",
              " '113': {'color': 'All',\n",
              "  'company_nm': 'Fun',\n",
              "  'name': 'Colour Pencils',\n",
              "  'price': 99,\n",
              "  'quantity': 100},\n",
              " '114': {'color': 'All available',\n",
              "  'company_nm': 'Colorama',\n",
              "  'name': 'Crayons',\n",
              "  'price': 150,\n",
              "  'quantity': 100},\n",
              " '115': {'color': 'Black',\n",
              "  'company_nm': 'Apsara',\n",
              "  'name': 'Blackboad',\n",
              "  'price': 199,\n",
              "  'quantity': 10},\n",
              " '116': {'color': 'Black',\n",
              "  'company_nm': 'Cello',\n",
              "  'name': 'Marker',\n",
              "  'price': 10,\n",
              "  'quantity': 160},\n",
              " '117': {'color': 'White',\n",
              "  'company_nm': 'Apsara',\n",
              "  'name': 'Chalk',\n",
              "  'price': 50,\n",
              "  'quantity': 100},\n",
              " '118': {'color': 'White',\n",
              "  'company_nm': 'Camilin',\n",
              "  'name': 'Sketch book',\n",
              "  'price': 199,\n",
              "  'quantity': 100},\n",
              " '119': {'color': 'Black',\n",
              "  'company_nm': 'Apsara',\n",
              "  'name': 'Chart paper',\n",
              "  'price': 10,\n",
              "  'quantity': 100},\n",
              " '120': {'color': 'Blue',\n",
              "  'company_nm': 'Renaulds',\n",
              "  'name': 'Refil',\n",
              "  'price': 10,\n",
              "  'quantity': 100},\n",
              " '121': {'color': 'Violet',\n",
              "  'company_nm': 'ABC',\n",
              "  'name': 'Cards',\n",
              "  'price': 10,\n",
              "  'quantity': 100},\n",
              " '122': {'color': 'Black',\n",
              "  'company_nm': 'Apsara',\n",
              "  'name': 'Ink bottel',\n",
              "  'price': 35,\n",
              "  'quantity': 10},\n",
              " '123': {'color': 'Black',\n",
              "  'company_nm': 'Fun',\n",
              "  'name': 'Colour Pencils',\n",
              "  'price': 199,\n",
              "  'quantity': 15},\n",
              " '124': {'color': 'Multi-color',\n",
              "  'company_nm': 'Camilin',\n",
              "  'name': 'Crayons',\n",
              "  'price': 10,\n",
              "  'quantity': 3},\n",
              " '125': {'color': 'Black',\n",
              "  'company_nm': 'XYZ',\n",
              "  'name': 'Blackboad',\n",
              "  'price': 10,\n",
              "  'quantity': 5},\n",
              " '126': {'color': 'Black',\n",
              "  'company_nm': 'Cello',\n",
              "  'name': 'Marker',\n",
              "  'price': 10,\n",
              "  'quantity': 100},\n",
              " '127': {'color': 'Grey',\n",
              "  'company_nm': 'ABC',\n",
              "  'name': 'Pins',\n",
              "  'price': 10,\n",
              "  'quantity': 10},\n",
              " '128': {'color': 'Multi-color',\n",
              "  'company_nm': 'Colorama',\n",
              "  'name': 'Stedlar',\n",
              "  'price': 499,\n",
              "  'quantity': 50},\n",
              " '129': {'color': 'Red',\n",
              "  'company_nm': 'XYZ',\n",
              "  'name': 'Sticker',\n",
              "  'price': 5,\n",
              "  'quantity': 100},\n",
              " '130': {'color': 'Multi-color',\n",
              "  'company_nm': 'Fun',\n",
              "  'name': 'Handmade Paper',\n",
              "  'price': 49,\n",
              "  'quantity': 70},\n",
              " '131': {'company_nm': 'ABC',\n",
              "  'name': 'Rubber Bands',\n",
              "  'price': 60,\n",
              "  'quantity': 8},\n",
              " '132': {'company_nm': 'Navneet',\n",
              "  'name': 'Sticky notes',\n",
              "  'price': 89,\n",
              "  'quantity': 40},\n",
              " '133': {'company_nm': 'Kangaro',\n",
              "  'name': 'Staplers',\n",
              "  'price': 55,\n",
              "  'quantity': 25}}"
            ]
          },
          "metadata": {},
          "execution_count": 18
        }
      ]
    },
    {
      "cell_type": "code",
      "metadata": {
        "id": "zUz5wx0kSlnK"
      },
      "source": [
        "js = json.dumps(records)\n",
        "\n",
        "fd = open(\"record.json\",'w')\n",
        "fd.write(js)\n",
        "fd.close()"
      ],
      "execution_count": 19,
      "outputs": []
    },
    {
      "cell_type": "code",
      "metadata": {
        "colab": {
          "base_uri": "https://localhost:8080/"
        },
        "id": "Rp9S1wamSyhb",
        "outputId": "3003f99b-c5cd-44ca-d8a5-4b0f81f7aed8"
      },
      "source": [
        "{'prod' : ui_prod, 'quantity' : ui_quant, 'amount': records[ui_prod]['price'] * ui_quant}\n"
      ],
      "execution_count": 20,
      "outputs": [
        {
          "output_type": "execute_result",
          "data": {
            "text/plain": [
              "{'amount': 20, 'prod': '109', 'quantity': 2}"
            ]
          },
          "metadata": {},
          "execution_count": 20
        }
      ]
    },
    {
      "cell_type": "code",
      "metadata": {
        "id": "Ns3IvN7cSyjz"
      },
      "source": [
        "sales = {1 : {'prod' : ui_prod, 'quantity' : ui_quant, 'amount': records[ui_prod]['price'] * ui_quant},\n",
        "         2 : {'prod' : ui_prod, 'quantity' : ui_quant, 'amount': records[ui_prod]['price'] * ui_quant},\n",
        "         3 : {'prod' : ui_prod, 'quantity' : ui_quant, 'amount': records[ui_prod]['price'] * ui_quant}}\n"
      ],
      "execution_count": 21,
      "outputs": []
    },
    {
      "cell_type": "code",
      "metadata": {
        "id": "4PL3WKJbS9Uq"
      },
      "source": [
        "sale = json.dumps(sales)"
      ],
      "execution_count": 22,
      "outputs": []
    },
    {
      "cell_type": "code",
      "metadata": {
        "id": "ijl_Te-mYOyg"
      },
      "source": [
        "fd = open(\"sales.json\",'w')\n",
        "fd.write(sale)\n",
        "fd.close()"
      ],
      "execution_count": 23,
      "outputs": []
    },
    {
      "cell_type": "code",
      "metadata": {
        "colab": {
          "base_uri": "https://localhost:8080/"
        },
        "id": "xn3v4HNxVAF5",
        "outputId": "dd03de9c-8cb1-40e4-da23-e90740bd651c"
      },
      "source": [
        "{(len(sales) + 1) : {'prod' : ui_prod, 'quantity' : ui_quant, 'amount': records[ui_prod]['price'] * ui_quant}}"
      ],
      "execution_count": 24,
      "outputs": [
        {
          "output_type": "execute_result",
          "data": {
            "text/plain": [
              "{4: {'amount': 20, 'prod': '109', 'quantity': 2}}"
            ]
          },
          "metadata": {},
          "execution_count": 24
        }
      ]
    },
    {
      "cell_type": "code",
      "metadata": {
        "id": "f3EcwZf4XggQ"
      },
      "source": [
        "sales[(len(sales) + 1)] = {'prod' : ui_prod, 'quantity' : ui_quant, 'amount': records[ui_prod]['price'] * ui_quant}"
      ],
      "execution_count": 13,
      "outputs": []
    },
    {
      "cell_type": "code",
      "metadata": {
        "colab": {
          "base_uri": "https://localhost:8080/"
        },
        "id": "JBjCFoQyXxZZ",
        "outputId": "cc06a398-2168-4e8c-f14f-cfec599cdec6"
      },
      "source": [
        "sales"
      ],
      "execution_count": 25,
      "outputs": [
        {
          "output_type": "execute_result",
          "data": {
            "text/plain": [
              "{1: {'amount': 20, 'prod': '109', 'quantity': 2},\n",
              " 2: {'amount': 20, 'prod': '109', 'quantity': 2},\n",
              " 3: {'amount': 20, 'prod': '109', 'quantity': 2}}"
            ]
          },
          "metadata": {},
          "execution_count": 25
        }
      ]
    }
  ]
}